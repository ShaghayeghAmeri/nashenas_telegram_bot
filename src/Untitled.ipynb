{
 "cells": [
  {
   "cell_type": "code",
   "execution_count": 1,
   "id": "66dc915e-7be6-4e99-a00b-b71e1929cc39",
   "metadata": {},
   "outputs": [],
   "source": [
    "import pymongo\n",
    "from pprint import pprint"
   ]
  },
  {
   "cell_type": "code",
   "execution_count": 2,
   "id": "63f4f1f6-7139-4a39-b26b-13bcb8bc6340",
   "metadata": {},
   "outputs": [],
   "source": [
    "client = pymongo.MongoClient(host='localhost', port=27017)"
   ]
  },
  {
   "cell_type": "code",
   "execution_count": 3,
   "id": "db1674d4-cadd-4ec4-a70d-abee6f98ba4f",
   "metadata": {},
   "outputs": [],
   "source": [
    "db = client.nashenas_telegram_bot"
   ]
  },
  {
   "cell_type": "code",
   "execution_count": 4,
   "id": "d569dc8b-96b9-4ab3-8a06-1f3c45df1843",
   "metadata": {},
   "outputs": [],
   "source": [
    "col = db.users"
   ]
  },
  {
   "cell_type": "code",
   "execution_count": 13,
   "id": "b39dbfe9-cfc0-43f4-b92f-0ef8aa8924c3",
   "metadata": {},
   "outputs": [
    {
     "name": "stdout",
     "output_type": "stream",
     "text": [
      "{'_id': ObjectId('61c3571aff4ec79c0a2a8c6a'),\n",
      " 'chat': {'first_name': 'Shaghayegh',\n",
      "          'id': 256363402,\n",
      "          'type': 'private',\n",
      "          'username': 'Shaghayegh7798'},\n",
      " 'conected': '406813521',\n",
      " 'connected_to': 406813521,\n",
      " 'date': 1640359960,\n",
      " 'entities': [{'length': 6, 'offset': 0, 'type': 'bot_command'}],\n",
      " 'from': {'first_name': 'Shaghayegh',\n",
      "          'id': 256363402,\n",
      "          'is_bot': False,\n",
      "          'language_code': 'en',\n",
      "          'username': 'Shaghayegh7798'},\n",
      " 'message_id': 597,\n",
      " 'state': 'CONNECTED',\n",
      " 'text': '/start'}\n",
      "__________________________________________________\n",
      "{'_id': ObjectId('61c364574a68d1949b1f85cd'),\n",
      " 'chat': {'first_name': 'AMIRHOSEIN',\n",
      "          'id': 406813521,\n",
      "          'type': 'private',\n",
      "          'username': 'A_Amerie'},\n",
      " 'conected': '256363402',\n",
      " 'connected_to': 256363402,\n",
      " 'date': 1640359650,\n",
      " 'entities': [{'length': 6, 'offset': 0, 'type': 'bot_command'}],\n",
      " 'from': {'first_name': 'AMIRHOSEIN',\n",
      "          'id': 406813521,\n",
      "          'is_bot': False,\n",
      "          'language_code': 'en',\n",
      "          'username': 'A_Amerie'},\n",
      " 'message_id': 591,\n",
      " 'state': 'CONNECTED',\n",
      " 'text': '/start'}\n",
      "__________________________________________________\n"
     ]
    }
   ],
   "source": [
    "for doc in col.find():\n",
    "    pprint(doc)\n",
    "    print('_'*50)"
   ]
  },
  {
   "cell_type": "code",
   "execution_count": null,
   "id": "337f9aa9-583c-47e5-972e-a96764508a2c",
   "metadata": {},
   "outputs": [],
   "source": []
  },
  {
   "cell_type": "code",
   "execution_count": null,
   "id": "e68e77ff-d93d-48df-a6ee-71edda4857cc",
   "metadata": {},
   "outputs": [],
   "source": []
  }
 ],
 "metadata": {
  "kernelspec": {
   "display_name": "Python 3",
   "language": "python",
   "name": "python3"
  },
  "language_info": {
   "codemirror_mode": {
    "name": "ipython",
    "version": 3
   },
   "file_extension": ".py",
   "mimetype": "text/x-python",
   "name": "python",
   "nbconvert_exporter": "python",
   "pygments_lexer": "ipython3",
   "version": "3.7.10"
  }
 },
 "nbformat": 4,
 "nbformat_minor": 5
}
